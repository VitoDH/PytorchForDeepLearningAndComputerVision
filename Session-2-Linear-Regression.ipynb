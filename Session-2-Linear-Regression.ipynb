{
 "cells": [
  {
   "cell_type": "code",
   "execution_count": 1,
   "metadata": {},
   "outputs": [],
   "source": [
    "import torch\n",
    "import torch.nn as nn\n",
    "import matplotlib.pyplot as plt\n",
    "import numpy as np"
   ]
  },
  {
   "cell_type": "markdown",
   "metadata": {},
   "source": [
    "## Making Predictions"
   ]
  },
  {
   "cell_type": "code",
   "execution_count": 2,
   "metadata": {},
   "outputs": [],
   "source": [
    "w = torch.tensor(3.0,requires_grad=True)\n",
    "b = torch.tensor(1.0,requires_grad=True)\n"
   ]
  },
  {
   "cell_type": "code",
   "execution_count": 3,
   "metadata": {},
   "outputs": [],
   "source": [
    "def forward(x):\n",
    "    y = w*x + b\n",
    "    return y"
   ]
  },
  {
   "cell_type": "code",
   "execution_count": 4,
   "metadata": {},
   "outputs": [
    {
     "data": {
      "text/plain": [
       "tensor(7., grad_fn=<AddBackward0>)"
      ]
     },
     "execution_count": 4,
     "metadata": {},
     "output_type": "execute_result"
    }
   ],
   "source": [
    "x = torch.tensor(2)\n",
    "forward(x)"
   ]
  },
  {
   "cell_type": "code",
   "execution_count": 5,
   "metadata": {},
   "outputs": [
    {
     "data": {
      "text/plain": [
       "tensor([[13],\n",
       "        [22]], grad_fn=<AddBackward0>)"
      ]
     },
     "execution_count": 5,
     "metadata": {},
     "output_type": "execute_result"
    }
   ],
   "source": [
    "x = torch.tensor([[4],[7]])\n",
    "forward(x)"
   ]
  },
  {
   "cell_type": "markdown",
   "metadata": {},
   "source": [
    "## Linear Class"
   ]
  },
  {
   "cell_type": "code",
   "execution_count": 6,
   "metadata": {},
   "outputs": [],
   "source": [
    "from torch.nn import Linear"
   ]
  },
  {
   "cell_type": "code",
   "execution_count": 7,
   "metadata": {},
   "outputs": [
    {
     "name": "stdout",
     "output_type": "stream",
     "text": [
      "Parameter containing:\n",
      "tensor([-0.4414], requires_grad=True) Parameter containing:\n",
      "tensor([[0.5153]], requires_grad=True)\n"
     ]
    }
   ],
   "source": [
    "torch.manual_seed(1) # set seed for random numbers\n",
    "model = Linear(in_features=1,out_features=1)\n",
    "print(model.bias,model.weight)"
   ]
  },
  {
   "cell_type": "code",
   "execution_count": 8,
   "metadata": {},
   "outputs": [
    {
     "name": "stdout",
     "output_type": "stream",
     "text": [
      "tensor([0.5891], grad_fn=<AddBackward0>)\n"
     ]
    }
   ],
   "source": [
    "x = torch.tensor([2.0])\n",
    "print(model(x))"
   ]
  },
  {
   "cell_type": "code",
   "execution_count": 9,
   "metadata": {},
   "outputs": [
    {
     "name": "stdout",
     "output_type": "stream",
     "text": [
      "tensor([[0.5891],\n",
      "        [1.2590]], grad_fn=<AddmmBackward>)\n"
     ]
    }
   ],
   "source": [
    "x = torch.tensor([[2.0],[3.3]])\n",
    "print(model(x))"
   ]
  },
  {
   "cell_type": "markdown",
   "metadata": {},
   "source": [
    "## Custom Modules"
   ]
  },
  {
   "cell_type": "code",
   "execution_count": 10,
   "metadata": {},
   "outputs": [],
   "source": [
    "import torch.nn as nn"
   ]
  },
  {
   "cell_type": "code",
   "execution_count": 11,
   "metadata": {},
   "outputs": [],
   "source": [
    "class LR(nn.Module):\n",
    "    \n",
    "    def __init__(self,input_size,output_size):\n",
    "        super().__init__()\n",
    "        self.linear = nn.Linear(input_size,output_size)\n",
    "    \n",
    "    def forward(self,x):\n",
    "        pred = self.linear(x)\n",
    "        return pred"
   ]
  },
  {
   "cell_type": "code",
   "execution_count": 12,
   "metadata": {},
   "outputs": [],
   "source": [
    "torch.manual_seed(1)\n",
    "model = LR(input_size=1,output_size=1)"
   ]
  },
  {
   "cell_type": "code",
   "execution_count": 13,
   "metadata": {},
   "outputs": [
    {
     "name": "stdout",
     "output_type": "stream",
     "text": [
      "[Parameter containing:\n",
      "tensor([[0.5153]], requires_grad=True), Parameter containing:\n",
      "tensor([-0.4414], requires_grad=True)]\n"
     ]
    }
   ],
   "source": [
    "print(list(model.parameters()))"
   ]
  },
  {
   "cell_type": "code",
   "execution_count": 14,
   "metadata": {},
   "outputs": [
    {
     "data": {
      "text/plain": [
       "tensor([0.0739], grad_fn=<AddBackward0>)"
      ]
     },
     "execution_count": 14,
     "metadata": {},
     "output_type": "execute_result"
    }
   ],
   "source": [
    "x = torch.tensor([1.0])\n",
    "model.forward(x)"
   ]
  },
  {
   "cell_type": "code",
   "execution_count": 15,
   "metadata": {},
   "outputs": [
    {
     "data": {
      "text/plain": [
       "tensor([[0.0739],\n",
       "        [0.5891]], grad_fn=<AddmmBackward>)"
      ]
     },
     "execution_count": 15,
     "metadata": {},
     "output_type": "execute_result"
    }
   ],
   "source": [
    "x = torch.tensor([[1.0],[2.0]])\n",
    "model.forward(x)"
   ]
  },
  {
   "cell_type": "markdown",
   "metadata": {},
   "source": [
    "## Creating Dataset"
   ]
  },
  {
   "cell_type": "code",
   "execution_count": 1,
   "metadata": {},
   "outputs": [],
   "source": [
    "import torch\n",
    "import torch.nn as nn\n",
    "import matplotlib.pyplot as plt\n",
    "import numpy as np"
   ]
  },
  {
   "cell_type": "code",
   "execution_count": 2,
   "metadata": {},
   "outputs": [
    {
     "data": {
      "text/plain": [
       "Text(0.5,0,'x')"
      ]
     },
     "execution_count": 2,
     "metadata": {},
     "output_type": "execute_result"
    },
    {
     "data": {
      "image/png": "[encoded data removed]",
      "text/plain": [
       "<Figure size 432x288 with 1 Axes>"
      ]
     },
     "metadata": {
      "needs_background": "light"
     },
     "output_type": "display_data"
    }
   ],
   "source": [
    "X = torch.randn(100,1)*10\n",
    "y = X + torch.randn(100,1)*3\n",
    "plt.plot(X.numpy(),y.numpy(),'o')\n",
    "plt.ylabel('y')\n",
    "plt.xlabel('x')"
   ]
  },
  {
   "cell_type": "code",
   "execution_count": 5,
   "metadata": {},
   "outputs": [],
   "source": [
    "class LR(nn.Module):\n",
    "    \n",
    "    def __init__(self,input_size,output_size):\n",
    "        super().__init__()\n",
    "        self.linear = nn.Linear(input_size,output_size)\n",
    "    \n",
    "    def forward(self,x):\n",
    "        pred = self.linear(x)\n",
    "        return pred"
   ]
  },
  {
   "cell_type": "code",
   "execution_count": 6,
   "metadata": {},
   "outputs": [
    {
     "name": "stdout",
     "output_type": "stream",
     "text": [
      "LR(\n",
      "  (linear): Linear(in_features=1, out_features=1, bias=True)\n",
      ")\n"
     ]
    }
   ],
   "source": [
    "torch.manual_seed(1)\n",
    "model = LR(1,1)\n",
    "print(model)"
   ]
  },
  {
   "cell_type": "code",
   "execution_count": 7,
   "metadata": {},
   "outputs": [
    {
     "name": "stdout",
     "output_type": "stream",
     "text": [
      "Parameter containing:\n",
      "tensor([[0.5153]], requires_grad=True) Parameter containing:\n",
      "tensor([-0.4414], requires_grad=True)\n"
     ]
    }
   ],
   "source": [
    "[w,b] = model.parameters()\n",
    "print(w,b)"
   ]
  },
  {
   "cell_type": "code",
   "execution_count": 8,
   "metadata": {},
   "outputs": [],
   "source": [
    "def get_params():\n",
    "    return (w[0][0].item(),b[0].item())"
   ]
  },
  {
   "cell_type": "code",
   "execution_count": 9,
   "metadata": {},
   "outputs": [],
   "source": [
    "def plot_fit(title):\n",
    "    plt.title = title\n",
    "    w1, b1 = get_params()\n",
    "    x1 = np.array([-30, 30])\n",
    "    y1 = w1*x1 + b1\n",
    "    plt.plot(x1, y1, 'r')\n",
    "    plt.scatter(X, y)\n",
    "    plt.show()"
   ]
  },
  {
   "cell_type": "code",
   "execution_count": 10,
   "metadata": {},
   "outputs": [
    {
     "data": {
      "image/png": "[encoded data removed]",
      "text/plain": [
       "<Figure size 432x288 with 1 Axes>"
      ]
     },
     "metadata": {
      "needs_background": "light"
     },
     "output_type": "display_data"
    }
   ],
   "source": [
    "plot_fit('Initial Models')"
   ]
  },
  {
   "cell_type": "markdown",
   "metadata": {},
   "source": [
    "## Loss Function"
   ]
  },
  {
   "cell_type": "markdown",
   "metadata": {},
   "source": [
    "## Gradient Descent"
   ]
  },
  {
   "cell_type": "code",
   "execution_count": 11,
   "metadata": {},
   "outputs": [],
   "source": [
    "criterion = nn.MSELoss()\n",
    "optimizer = torch.optim.SGD(model.parameters(),lr=0.01)"
   ]
  },
  {
   "cell_type": "code",
   "execution_count": 12,
   "metadata": {},
   "outputs": [
    {
     "name": "stdout",
     "output_type": "stream",
     "text": [
      "epoch: 0 loss: 25.808931350708008\n",
      "epoch: 1 loss: 16.365205764770508\n",
      "epoch: 2 loss: 11.81375789642334\n",
      "epoch: 3 loss: 9.6198091506958\n",
      "epoch: 4 loss: 8.56190013885498\n",
      "epoch: 5 loss: 8.051446914672852\n",
      "epoch: 6 loss: 7.804823875427246\n",
      "epoch: 7 loss: 7.685360431671143\n",
      "epoch: 8 loss: 7.627195358276367\n",
      "epoch: 9 loss: 7.598592281341553\n",
      "epoch: 10 loss: 7.584257125854492\n",
      "epoch: 11 loss: 7.57681941986084\n",
      "epoch: 12 loss: 7.572725772857666\n",
      "epoch: 13 loss: 7.570263385772705\n",
      "epoch: 14 loss: 7.568606853485107\n",
      "epoch: 15 loss: 7.567358016967773\n",
      "epoch: 16 loss: 7.56632137298584\n",
      "epoch: 17 loss: 7.565405368804932\n",
      "epoch: 18 loss: 7.564563751220703\n",
      "epoch: 19 loss: 7.563773155212402\n",
      "epoch: 20 loss: 7.563022613525391\n",
      "epoch: 21 loss: 7.562306880950928\n",
      "epoch: 22 loss: 7.561620235443115\n",
      "epoch: 23 loss: 7.560961723327637\n",
      "epoch: 24 loss: 7.560329914093018\n",
      "epoch: 25 loss: 7.559723377227783\n",
      "epoch: 26 loss: 7.559141159057617\n",
      "epoch: 27 loss: 7.558581352233887\n",
      "epoch: 28 loss: 7.558043479919434\n",
      "epoch: 29 loss: 7.557527542114258\n",
      "epoch: 30 loss: 7.557031154632568\n",
      "epoch: 31 loss: 7.556554794311523\n",
      "epoch: 32 loss: 7.55609655380249\n",
      "epoch: 33 loss: 7.5556559562683105\n",
      "epoch: 34 loss: 7.555233955383301\n",
      "epoch: 35 loss: 7.55482816696167\n",
      "epoch: 36 loss: 7.55443811416626\n",
      "epoch: 37 loss: 7.55406379699707\n",
      "epoch: 38 loss: 7.553704261779785\n",
      "epoch: 39 loss: 7.55335807800293\n",
      "epoch: 40 loss: 7.55302619934082\n",
      "epoch: 41 loss: 7.552706718444824\n",
      "epoch: 42 loss: 7.552400588989258\n",
      "epoch: 43 loss: 7.552105903625488\n",
      "epoch: 44 loss: 7.551823616027832\n",
      "epoch: 45 loss: 7.5515522956848145\n",
      "epoch: 46 loss: 7.551290512084961\n",
      "epoch: 47 loss: 7.551039695739746\n",
      "epoch: 48 loss: 7.550799369812012\n",
      "epoch: 49 loss: 7.550567626953125\n",
      "epoch: 50 loss: 7.5503458976745605\n",
      "epoch: 51 loss: 7.5501322746276855\n",
      "epoch: 52 loss: 7.549927234649658\n",
      "epoch: 53 loss: 7.54973030090332\n",
      "epoch: 54 loss: 7.549540996551514\n",
      "epoch: 55 loss: 7.54935884475708\n",
      "epoch: 56 loss: 7.549184322357178\n",
      "epoch: 57 loss: 7.549016952514648\n",
      "epoch: 58 loss: 7.548855781555176\n",
      "epoch: 59 loss: 7.548700332641602\n",
      "epoch: 60 loss: 7.548551559448242\n",
      "epoch: 61 loss: 7.5484089851379395\n",
      "epoch: 62 loss: 7.548271656036377\n",
      "epoch: 63 loss: 7.548140048980713\n",
      "epoch: 64 loss: 7.548013210296631\n",
      "epoch: 65 loss: 7.547891616821289\n",
      "epoch: 66 loss: 7.547774314880371\n",
      "epoch: 67 loss: 7.547662258148193\n",
      "epoch: 68 loss: 7.547554969787598\n",
      "epoch: 69 loss: 7.547451019287109\n",
      "epoch: 70 loss: 7.547351360321045\n",
      "epoch: 71 loss: 7.547255516052246\n",
      "epoch: 72 loss: 7.547163486480713\n",
      "epoch: 73 loss: 7.5470757484436035\n",
      "epoch: 74 loss: 7.546990871429443\n",
      "epoch: 75 loss: 7.546909332275391\n",
      "epoch: 76 loss: 7.5468316078186035\n",
      "epoch: 77 loss: 7.546755790710449\n",
      "epoch: 78 loss: 7.5466837882995605\n",
      "epoch: 79 loss: 7.546614646911621\n",
      "epoch: 80 loss: 7.546547889709473\n",
      "epoch: 81 loss: 7.546483516693115\n",
      "epoch: 82 loss: 7.546422481536865\n",
      "epoch: 83 loss: 7.546363353729248\n",
      "epoch: 84 loss: 7.546306610107422\n",
      "epoch: 85 loss: 7.546252250671387\n",
      "epoch: 86 loss: 7.546199321746826\n",
      "epoch: 87 loss: 7.546149253845215\n",
      "epoch: 88 loss: 7.546101093292236\n",
      "epoch: 89 loss: 7.546054840087891\n",
      "epoch: 90 loss: 7.5460100173950195\n",
      "epoch: 91 loss: 7.545967102050781\n",
      "epoch: 92 loss: 7.545926094055176\n",
      "epoch: 93 loss: 7.545886993408203\n",
      "epoch: 94 loss: 7.5458478927612305\n",
      "epoch: 95 loss: 7.545812129974365\n",
      "epoch: 96 loss: 7.545776844024658\n",
      "epoch: 97 loss: 7.545743465423584\n",
      "epoch: 98 loss: 7.545711040496826\n",
      "epoch: 99 loss: 7.545679569244385\n"
     ]
    }
   ],
   "source": [
    "epochs = 100\n",
    "losses = []\n",
    "for i in range(epochs):\n",
    "    y_pred = model.forward(X)\n",
    "    loss = criterion(y_pred, y)\n",
    "    print(\"epoch:\", i, \"loss:\", loss.item())\n",
    "  \n",
    "    losses.append(loss)\n",
    "    optimizer.zero_grad()\n",
    "    loss.backward()\n",
    "    optimizer.step()"
   ]
  },
  {
   "cell_type": "code",
   "execution_count": 13,
   "metadata": {},
   "outputs": [
    {
     "data": {
      "text/plain": [
       "Text(0.5,0,'epoch')"
      ]
     },
     "execution_count": 13,
     "metadata": {},
     "output_type": "execute_result"
    },
    {
     "data": {
      "image/png": "[encoded data removed]",
      "text/plain": [
       "<Figure size 432x288 with 1 Axes>"
      ]
     },
     "metadata": {
      "needs_background": "light"
     },
     "output_type": "display_data"
    }
   ],
   "source": [
    "plt.plot(range(epochs),losses)\n",
    "plt.ylabel('Loss')\n",
    "plt.xlabel('epoch')"
   ]
  },
  {
   "cell_type": "code",
   "execution_count": 14,
   "metadata": {},
   "outputs": [
    {
     "data": {
      "image/png": "[encoded data removed]",
      "text/plain": [
       "<Figure size 432x288 with 1 Axes>"
      ]
     },
     "metadata": {
      "needs_background": "light"
     },
     "output_type": "display_data"
    }
   ],
   "source": [
    "plot_fit(\"Trained Model\")"
   ]
  },
  {
   "cell_type": "code",
   "execution_count": null,
   "metadata": {},
   "outputs": [],
   "source": []
  }
 ],
 "metadata": {
  "kernelspec": {
   "display_name": "Python 3",
   "language": "python",
   "name": "python3"
  },
  "language_info": {
   "codemirror_mode": {
    "name": "ipython",
    "version": 3
   },
   "file_extension": ".py",
   "mimetype": "text/x-python",
   "name": "python",
   "nbconvert_exporter": "python",
   "pygments_lexer": "ipython3",
   "version": "3.6.6"
  }
 },
 "nbformat": 4,
 "nbformat_minor": 2
}
